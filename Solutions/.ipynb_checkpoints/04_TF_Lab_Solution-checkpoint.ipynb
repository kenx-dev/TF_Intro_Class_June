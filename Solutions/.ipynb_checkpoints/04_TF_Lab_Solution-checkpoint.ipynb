{
 "cells": [
  {
   "cell_type": "markdown",
   "metadata": {},
   "source": [
    "### Exercise: Get Accuracy to 99%\n",
    "* Step 1: Change the hyperparamaters (number of neurons in each layer, dropout percentage, learning rate, learning rate decay).\n",
    "* Step 2: Change the placement and use of the relu and dropout layers.\n",
    "* Step 3: Add or remove entire layers.\n",
    "* To simplify things for yourself when you move layers around you may want to code an operation that includes relu and dropout as a module.\n",
    "* Get accuracy to 99% on MNIST."
   ]
  },
  {
   "cell_type": "code",
   "execution_count": 1,
   "metadata": {},
   "outputs": [
    {
     "name": "stderr",
     "output_type": "stream",
     "text": [
      "/usr/local/lib/python3.5/dist-packages/h5py/__init__.py:36: FutureWarning: Conversion of the second argument of issubdtype from `float` to `np.floating` is deprecated. In future, it will be treated as `np.float64 == np.dtype(float).type`.\n",
      "  from ._conv import register_converters as _register_converters\n"
     ]
    },
    {
     "name": "stdout",
     "output_type": "stream",
     "text": [
      "WARNING:tensorflow:From <ipython-input-1-388dfc0572f8>:8: read_data_sets (from tensorflow.contrib.learn.python.learn.datasets.mnist) is deprecated and will be removed in a future version.\n",
      "Instructions for updating:\n",
      "Please use alternatives such as official/mnist/dataset.py from tensorflow/models.\n",
      "WARNING:tensorflow:From /usr/local/lib/python3.5/dist-packages/tensorflow/contrib/learn/python/learn/datasets/mnist.py:260: maybe_download (from tensorflow.contrib.learn.python.learn.datasets.base) is deprecated and will be removed in a future version.\n",
      "Instructions for updating:\n",
      "Please write your own downloading logic.\n",
      "WARNING:tensorflow:From /usr/local/lib/python3.5/dist-packages/tensorflow/contrib/learn/python/learn/datasets/mnist.py:262: extract_images (from tensorflow.contrib.learn.python.learn.datasets.mnist) is deprecated and will be removed in a future version.\n",
      "Instructions for updating:\n",
      "Please use tf.data to implement this functionality.\n",
      "Extracting data/train-images-idx3-ubyte.gz\n",
      "WARNING:tensorflow:From /usr/local/lib/python3.5/dist-packages/tensorflow/contrib/learn/python/learn/datasets/mnist.py:267: extract_labels (from tensorflow.contrib.learn.python.learn.datasets.mnist) is deprecated and will be removed in a future version.\n",
      "Instructions for updating:\n",
      "Please use tf.data to implement this functionality.\n",
      "Extracting data/train-labels-idx1-ubyte.gz\n",
      "WARNING:tensorflow:From /usr/local/lib/python3.5/dist-packages/tensorflow/contrib/learn/python/learn/datasets/mnist.py:110: dense_to_one_hot (from tensorflow.contrib.learn.python.learn.datasets.mnist) is deprecated and will be removed in a future version.\n",
      "Instructions for updating:\n",
      "Please use tf.one_hot on tensors.\n",
      "Extracting data/t10k-images-idx3-ubyte.gz\n",
      "Extracting data/t10k-labels-idx1-ubyte.gz\n",
      "WARNING:tensorflow:From /usr/local/lib/python3.5/dist-packages/tensorflow/contrib/learn/python/learn/datasets/mnist.py:290: DataSet.__init__ (from tensorflow.contrib.learn.python.learn.datasets.mnist) is deprecated and will be removed in a future version.\n",
      "Instructions for updating:\n",
      "Please use alternatives such as official/mnist/dataset.py from tensorflow/models.\n"
     ]
    }
   ],
   "source": [
    "import tensorflow as tf\n",
    "\n",
    "import warnings\n",
    "with warnings.catch_warnings():\n",
    "    dataPath = \"data/\"\n",
    "    warnings.filterwarnings(\"ignore\")\n",
    "    from tensorflow.examples.tutorials.mnist import input_data\n",
    "    mnist = input_data.read_data_sets(dataPath, one_hot=True) # MNIST dataset to be downloaded \n",
    "\n",
    "\n",
    "import math\n",
    "\n",
    "from tensorflow.python.framework import ops\n",
    "\n",
    "import random\n",
    "import os\n",
    "\n",
    "tf.logging.set_verbosity('ERROR')\n",
    "warnings.filterwarnings(\"ignore\")\n",
    "\n",
    "os.environ['TF_CPP_MIN_LOG_LEVEL'] = '3'\n",
    "\n",
    "logs_path = 'log_softmax_relu_dropout/' # logging path\n",
    "batch_size = 100 # batch size while performing traing \n",
    "learning_rate = 0.003 # Learning rate \n",
    "\n",
    "if not os.path.exists(dataPath):\n",
    "    os.makedirs(dataPath)"
   ]
  },
  {
   "cell_type": "code",
   "execution_count": 2,
   "metadata": {},
   "outputs": [],
   "source": [
    "X = tf.placeholder(tf.float32, [None, 784], name='InputData') # mnist data image of shape 28*28=784\n",
    "XX = tf.reshape(X, [-1, 784]) # reshape input\n",
    "Y_ = tf.placeholder(tf.float32, [None, 10], name='LabelData') # 0-9 digits recognition => 10 classes\n",
    "\n",
    "lr = tf.placeholder(tf.float32) # Learning rate \n",
    "pkeep = tf.placeholder(tf.float32) # dropout probablity \n",
    "\n",
    "L = 400 # number of neurons in layer 1\n",
    "M = 270 # number of neurons in layer 2\n",
    "N = 150 # number of neurons in layer 3\n",
    "O = 90 # number of neurons in layer 4"
   ]
  },
  {
   "cell_type": "code",
   "execution_count": 3,
   "metadata": {},
   "outputs": [],
   "source": [
    "W1 = tf.Variable(tf.truncated_normal([784, L], stddev=0.1)) # Initialize random weights for the hidden layer 1 \n",
    "B1 = tf.Variable(tf.zeros([L])) # Bias vector for layer 1\n",
    "\n",
    "W2 = tf.Variable(tf.truncated_normal([L, M], stddev=0.1)) # Initialize random weights for the hidden layer 2 \n",
    "B2 = tf.Variable(tf.ones([M])) # Bias vector for layer 2\n",
    "\n",
    "W3 = tf.Variable(tf.truncated_normal([M, N], stddev=0.1)) # Initialize random weights for the hidden layer 3 \n",
    "B3 = tf.Variable(tf.ones([N])) # Bias vector for layer 3\n",
    "\n",
    "W4 = tf.Variable(tf.truncated_normal([N, O], stddev=0.1)) # Initialize random weights for the hidden layer 4\n",
    "B4 = tf.Variable(tf.ones([O])) # Bias vector for layer 4\n",
    "\n",
    "W5 = tf.Variable(tf.truncated_normal([O, 10], stddev=0.1)) # Initialize random weights for the hidden layer 5 \n",
    "B5 = tf.Variable(tf.ones([10])) # Bias vector for layer 5\n",
    "\n",
    "XX = tf.reshape(X, [-1, 28*28])\n",
    "\n",
    "Y1 = tf.nn.relu(tf.matmul(XX, W1) + B1) # Output from layer 1\n",
    "Y1d = tf.nn.dropout(Y1, pkeep)\n",
    "\n",
    "Y2 = tf.nn.relu(tf.matmul(Y1, W2) + B2) # Output from layer 2\n",
    "Y2d = tf.nn.dropout(Y2, pkeep)\n",
    "\n",
    "Y3 = tf.nn.relu(tf.matmul(Y2, W3) + B3) # Output from layer 3\n",
    "Y3d = tf.nn.dropout(Y3, pkeep)\n",
    "\n",
    "Y4 = tf.nn.relu(tf.matmul(Y3, W4) + B4) # Output from layer 4\n",
    "Y4d = tf.nn.dropout(Y4, pkeep)\n",
    "\n",
    "Ylogits = tf.matmul(Y4d, W5) + B5 # computing the logits\n",
    "Y = tf.nn.softmax(Ylogits) # output from layer 5"
   ]
  },
  {
   "cell_type": "code",
   "execution_count": 4,
   "metadata": {},
   "outputs": [],
   "source": [
    "cross_entropy = tf.nn.softmax_cross_entropy_with_logits_v2(logits=Ylogits, labels=Y_) # final outcome using softmax cross entropy \n",
    "cost_op = tf.reduce_mean(cross_entropy)*100\n",
    "\n",
    "correct_prediction = tf.equal(tf.argmax(Y, 1), tf.argmax(Y_, 1))\n",
    "accuracy = tf.reduce_mean(tf.cast(correct_prediction, tf.float32))\n",
    "\n",
    "# Optimization op (backprop)\n",
    "train_op = tf.train.GradientDescentOptimizer(learning_rate).minimize(cost_op)"
   ]
  },
  {
   "cell_type": "code",
   "execution_count": 5,
   "metadata": {},
   "outputs": [],
   "source": [
    "# Initialize the variables (i.e. assign their default value)\n",
    "init_op = tf.global_variables_initializer()\n",
    "\n",
    "# Construct model and encapsulating all ops into scopes, making Tensorboard's Graph visualization more convenient\n",
    "\n",
    "# Create a summary to monitor cost tensor\n",
    "tf.summary.scalar(\"cost\", cost_op)\n",
    "\n",
    "# Create a summary to monitor accuracy tensor\n",
    "tf.summary.scalar(\"accuracy\", accuracy)\n",
    "\n",
    "# Merge all summaries into a single op\n",
    "summary_op = tf.summary.merge_all()"
   ]
  },
  {
   "cell_type": "code",
   "execution_count": 6,
   "metadata": {},
   "outputs": [
    {
     "name": "stdout",
     "output_type": "stream",
     "text": [
      "Epoch:  1  Accuracy:  0.9639 Learning rate: 0.000000013\n",
      "Epoch:  3  Accuracy:  0.9736 Learning rate: 0.000000013\n",
      "Epoch:  5  Accuracy:  0.978 Learning rate: 0.000000013\n",
      "Epoch:  7  Accuracy:  0.977 Learning rate: 0.000000013\n",
      "Epoch:  9  Accuracy:  0.9743 Learning rate: 0.000000013\n",
      "Epoch:  11  Accuracy:  0.9804 Learning rate: 0.000000013\n",
      "Epoch:  13  Accuracy:  0.9802 Learning rate: 0.000000013\n",
      "Epoch:  15  Accuracy:  0.9794 Learning rate: 0.000000013\n",
      "Epoch:  17  Accuracy:  0.9817 Learning rate: 0.000000013\n",
      "Epoch:  19  Accuracy:  0.9821 Learning rate: 0.000000013\n",
      "Epoch:  21  Accuracy:  0.9798 Learning rate: 0.000000013\n",
      "Epoch:  23  Accuracy:  0.9777 Learning rate: 0.000000013\n",
      "Epoch:  25  Accuracy:  0.9816 Learning rate: 0.000000013\n",
      "Epoch:  27  Accuracy:  0.9824 Learning rate: 0.000000013\n",
      "Epoch:  29  Accuracy:  0.9827 Learning rate: 0.000000013\n",
      "Epoch:  31  Accuracy:  0.9841 Learning rate: 0.000000013\n",
      "Epoch:  33  Accuracy:  0.9827 Learning rate: 0.000000013\n",
      "Epoch:  35  Accuracy:  0.9855 Learning rate: 0.000000013\n",
      "Epoch:  37  Accuracy:  0.9846 Learning rate: 0.000000013\n",
      "Epoch:  39  Accuracy:  0.985 Learning rate: 0.000000013\n",
      "Epoch:  41  Accuracy:  0.9852 Learning rate: 0.000000013\n",
      "Epoch:  43  Accuracy:  0.9841 Learning rate: 0.000000013\n",
      "Epoch:  45  Accuracy:  0.9847 Learning rate: 0.000000013\n",
      "Epoch:  47  Accuracy:  0.9846 Learning rate: 0.000000013\n",
      "Epoch:  49  Accuracy:  0.9852 Learning rate: 0.000000013\n",
      "Epoch:  51  Accuracy:  0.9849 Learning rate: 0.000000013\n",
      "Accuracy:  0.9851\n",
      "done\n"
     ]
    }
   ],
   "source": [
    "training_epochs = 52 # training epochs\n",
    "display_epoch = 2\n",
    "pkeep_val = 0.8\n",
    "min_learning_rate = 0.0000000005\n",
    "\n",
    "with tf.Session() as sess:\n",
    "    sess.run(tf.global_variables_initializer())\n",
    "    writer = tf.summary.FileWriter(logs_path, graph=tf.get_default_graph())\n",
    "    for epoch in range(training_epochs):\n",
    "        batch_count = int(mnist.train.num_examples/batch_size)\n",
    "        max_learning_rate = 0.23\n",
    "        for i in range(batch_count):\n",
    "            max_learning_rate *= 0.97 # decay factor\n",
    "            batch_x, batch_y = mnist.train.next_batch(batch_size)\n",
    "            learning_rate = min_learning_rate + max_learning_rate            \n",
    "            _, summary = sess.run([train_op, summary_op], {X: batch_x, Y_: batch_y, pkeep: pkeep_val, lr: learning_rate})\n",
    "            writer.add_summary(summary, epoch * batch_count + i)\n",
    "        \n",
    "        if (epoch+1) % display_epoch == 0:\n",
    "            acc = accuracy.eval(feed_dict={X: mnist.test.images, Y_: mnist.test.labels, pkeep: pkeep_val})\n",
    "            print(\"Epoch: \", epoch, \" Accuracy: \", acc, \"Learning rate: %.9f\" % learning_rate)\n",
    "           \n",
    "    print(\"Accuracy: \", accuracy.eval(feed_dict={X: mnist.test.images, \n",
    "                                                 Y_: mnist.test.labels, \n",
    "                                                 pkeep: pkeep_val}))\n",
    "    print(\"done\")"
   ]
  },
  {
   "cell_type": "code",
   "execution_count": null,
   "metadata": {},
   "outputs": [],
   "source": []
  },
  {
   "cell_type": "code",
   "execution_count": 7,
   "metadata": {},
   "outputs": [
    {
     "data": {
      "text/plain": [
       "0.0999990500045125"
      ]
     },
     "execution_count": 7,
     "metadata": {},
     "output_type": "execute_result"
    }
   ],
   "source": [
    "a = 0.1\n",
    "a *= math.exp(-19/2000000);a"
   ]
  },
  {
   "cell_type": "code",
   "execution_count": null,
   "metadata": {},
   "outputs": [],
   "source": []
  }
 ],
 "metadata": {
  "kernelspec": {
   "display_name": "Python 3",
   "language": "python",
   "name": "python3"
  },
  "language_info": {
   "codemirror_mode": {
    "name": "ipython",
    "version": 3
   },
   "file_extension": ".py",
   "mimetype": "text/x-python",
   "name": "python",
   "nbconvert_exporter": "python",
   "pygments_lexer": "ipython3",
   "version": "3.5.2"
  }
 },
 "nbformat": 4,
 "nbformat_minor": 2
}
